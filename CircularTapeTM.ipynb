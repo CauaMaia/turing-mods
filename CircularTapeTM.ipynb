{
 "cells": [
  {
   "cell_type": "code",
   "execution_count": 1,
   "id": "dcc34105",
   "metadata": {},
   "outputs": [],
   "source": [
    "class CircularTapeTM:                               # Define a nova classe da máquina de Turing circular\n",
    "    \"\"\"\n",
    "    Máquina de Turing com fita circular de tamanho fixo.          # Docstring: descreve o que é a classe\n",
    "    - tape: string inicial (o comprimento define o tamanho do anel).\n",
    "    - transitions: dict {(estado, símbolo_lido): (símbolo_escrito, dir, prox_estado)}\n",
    "      dir ∈ {'R', 'L', 'N'} (N = não mover).\n",
    "    \"\"\"\n",
    "\n",
    "    def __init__(self, tape, transitions, start, accept, reject):\n",
    "        # ---------- atributos básicos ----------\n",
    "        self.tape  = list(tape)                   # Converte a string da fita para lista mutável de símbolos\n",
    "        self.n     = len(self.tape)               # Número fixo de células (tamanho do “anel”)\n",
    "        self.tr    = transitions                  # Dicionário de transições (tabela δ)\n",
    "        self.state = start                        # Estado atual da máquina\n",
    "        self.head  = 0                            # Posição inicial do cabeçote (célula 0)\n",
    "        self.ACC   = accept                       # Estado de aceitação\n",
    "        self.REJ   = reject                       # Estado de rejeição\n",
    "\n",
    "    # ---------- função auxiliar para mover o cabeçote ----------\n",
    "    def _move(self, direction):\n",
    "        if direction == 'R':                      # Se a regra diz “R” (right)…\n",
    "            self.head = (self.head + 1) % self.n  # Avança 1 célula; “% n” faz o loop circular\n",
    "        elif direction == 'L':                    # Se a regra diz “L” (left)…\n",
    "            self.head = (self.head - 1) % self.n  # Retrocede 1 célula; também circular\n",
    "        # Se direction == 'N', não faz nada (não move)\n",
    "\n",
    "    # ---------- executa 1 passo da computação ----------\n",
    "    def step(self):\n",
    "        sym = self.tape[self.head]               # Lê o símbolo sob o cabeçote\n",
    "        key = (self.state, sym)                  # Monta a chave (estado, símbolo) p/ buscar na tabela\n",
    "\n",
    "        if key not in self.tr:                   # Se não existe transição definida\n",
    "            self.state = self.REJ                # Vai direto para o estado de rejeição\n",
    "            return                               # Termina o passo\n",
    "\n",
    "        # Caso haja transição:\n",
    "        new_sym, dir_, nxt = self.tr[key]        # Desempacota: símbolo a escrever, direção, próximo estado\n",
    "        self.tape[self.head] = new_sym           # Escreve o novo símbolo na fita\n",
    "        self.state = nxt                         # Atualiza o estado\n",
    "        self._move(dir_)                         # Move o cabeçote conforme a direção\n",
    "\n",
    "    # ---------- executa vários passos até aceitar/rejeitar ou atingir limite ----------\n",
    "    def run(self, max_steps=10_000):\n",
    "        steps = 0                                # Contador de passos (serve p/ debug ou evitar loop infinito)\n",
    "        while self.state not in {self.ACC, self.REJ} and steps < max_steps:\n",
    "            self.step()                          # Executa um passo\n",
    "            steps += 1                           # Incrementa o contador\n",
    "\n",
    "        # Retorna tupla: (True se aceitou, fita final como string, nº de passos usados)\n",
    "        return (self.state == self.ACC), ''.join(self.tape), steps\n"
   ]
  },
  {
   "cell_type": "markdown",
   "id": "c5aaf3db",
   "metadata": {},
   "source": [
    "Paridade de 1s em anel de 4 células"
   ]
  },
  {
   "cell_type": "code",
   "execution_count": null,
   "id": "f65befec",
   "metadata": {},
   "outputs": [
    {
     "name": "stdout",
     "output_type": "stream",
     "text": [
      "Aceita? False\n",
      "Fita: X1XX_end | passos: 5\n"
     ]
    }
   ],
   "source": [
    "tr_paridade = {\n",
    "    ('q0', '1'): ('X', 'R', 'q1'),   # Marca 1º '1'\n",
    "    ('q0', 'X'): ('X', 'R', 'q0'),\n",
    "\n",
    "    ('q1', '1'): ('1', 'R', 'q0'),   # Achou par\n",
    "    ('q1', 'X'): ('X', 'R', 'q1'),\n",
    "\n",
    "    # Se der uma volta e nenhum par foi achado → rejeita\n",
    "    ('q0', 'X_end'): ('X_end', 'N', 'q_rej'),\n",
    "    ('q1', 'X_end'): ('X_end', 'N', 'q_rej'),\n",
    "}\n",
    "\n",
    "# Inserimos símbolo especial 'X_end' em uma das posições para detectar a volta completa\n",
    "fita = list(\"1111\")\n",
    "fita[-1] = 'X_end'            # marca fim lógico do ciclo\n",
    "\n",
    "tm = CircularTapeTM(''.join(fita), tr_paridade, 'q0', 'q_acc', 'q_rej')\n",
    "aceita, fita_final, passos = tm.run()\n",
    "print(\"Aceita?\", aceita)\n",
    "print(\"Fita:\", fita_final, \"| passos:\", passos)"
   ]
  },
  {
   "cell_type": "markdown",
   "id": "79a3f6b3",
   "metadata": {},
   "source": [
    "Rotação circular à direita"
   ]
  },
  {
   "cell_type": "code",
   "execution_count": null,
   "id": "7aead2b4",
   "metadata": {},
   "outputs": [
    {
     "name": "stdout",
     "output_type": "stream",
     "text": [
      "dabc\n"
     ]
    }
   ],
   "source": [
    "tr_rot = {\n",
    "    # Estado q0: guarda símbolo da célula e avança\n",
    "    ('q0', 'a'): ('_', 'R', 'q1'),  # '_' é marcador vazio\n",
    "    ('q1', 'b'): ('a', 'R', 'q2'),\n",
    "    ('q2', 'c'): ('b', 'R', 'q3'),\n",
    "    ('q3', 'd'): ('c', 'R', 'q4'),\n",
    "    ('q4', '_'): ('d', 'N', 'q_acc'),  # escreve último e termina\n",
    "}\n",
    "\n",
    "tm2 = CircularTapeTM('abcd', tr_rot, 'q0', 'q_acc', 'q_rej')\n",
    "ok, out, _ = tm2.run()\n",
    "print(out)        # saída esperada: \"dabc\""
   ]
  },
  {
   "cell_type": "markdown",
   "id": "32d907a8",
   "metadata": {},
   "source": [
    "Verificar paridade par de 1 s em anel de 6 células"
   ]
  },
  {
   "cell_type": "code",
   "execution_count": null,
   "id": "28557c36",
   "metadata": {},
   "outputs": [
    {
     "name": "stdout",
     "output_type": "stream",
     "text": [
      "(False, 'XXXXXX', 10000)\n"
     ]
    }
   ],
   "source": [
    "tr_par = {\n",
    "    ('q0', '1'): ('X', 'R', 'q1'),   # marca 1º ‘1’\n",
    "    ('q0', 'X'): ('X', 'R', 'q0'),\n",
    "\n",
    "    ('q1', '1'): ('X', 'R', 'q0'),   # achou par → volta ao estado “par”\n",
    "    ('q1', 'X'): ('X', 'R', 'q1'),\n",
    "\n",
    "    ('q0', '_'): ('_', 'N', 'q_acc'),  # sem ‘1’ pendente → par → aceita\n",
    "    ('q1', '_'): ('_', 'N', 'q_rej'),  # terminou com ‘1’ pendente → ímpar\n",
    "}\n",
    "\n",
    "tm1 = CircularTapeTM('111111', tr_par, 'q0', 'q_acc', 'q_rej')\n",
    "print(tm1.run())  # (True, 'XXXXXX', passos)"
   ]
  },
  {
   "cell_type": "markdown",
   "id": "d621059a",
   "metadata": {},
   "source": [
    "Rotação circular à direita (já mostrado, agora genérico)"
   ]
  },
  {
   "cell_type": "code",
   "execution_count": null,
   "id": "ac1b51e7",
   "metadata": {},
   "outputs": [
    {
     "name": "stdout",
     "output_type": "stream",
     "text": [
      "(True, 'dabc', 5)\n"
     ]
    }
   ],
   "source": [
    "tr_rot = {\n",
    "    ('q0', '_'): ('_', 'N', 'q_acc'),          # fita vazia → já concluiu\n",
    "    ('q0', 'a'): ('_', 'R', 'q1'),             # guarda 1º símbolo\n",
    "    ('q1', 'b'): ('a', 'R', 'q2'),\n",
    "    ('q2', 'c'): ('b', 'R', 'q3'),\n",
    "    ('q3', 'd'): ('c', 'R', 'q4'),\n",
    "    ('q4', '_'): ('d', 'N', 'q_acc'),\n",
    "}\n",
    "tm2 = CircularTapeTM('abcd', tr_rot, 'q0', 'q_acc', 'q_rej')\n",
    "print(tm2.run())  # ('dabc')"
   ]
  },
  {
   "cell_type": "markdown",
   "id": "a3a1c31c",
   "metadata": {},
   "source": [
    "Relógio binário mod 8"
   ]
  },
  {
   "cell_type": "code",
   "execution_count": 6,
   "id": "45e72ea4",
   "metadata": {},
   "outputs": [
    {
     "name": "stdout",
     "output_type": "stream",
     "text": [
      "100\n",
      "001\n",
      "010\n",
      "100\n",
      "001\n",
      "010\n",
      "100\n",
      "001\n",
      "010\n",
      "100\n"
     ]
    }
   ],
   "source": [
    "tr_clk = {\n",
    "    # Estado q0: incrementa o bit menos significativo (posição head 0)\n",
    "    ('q0', '0'): ('1', 'N', 'q_acc'),           # 0→1 e termina\n",
    "    ('q0', '1'): ('0', 'L', 'q1'),              # 1→0 e vai para o bit seguinte\n",
    "\n",
    "    # Estado q1: bit 1\n",
    "    ('q1', '0'): ('1', 'N', 'q_acc'),\n",
    "    ('q1', '1'): ('0', 'L', 'q2'),\n",
    "\n",
    "    # Estado q2: bit 2\n",
    "    ('q2', '0'): ('1', 'N', 'q_acc'),\n",
    "    ('q2', '1'): ('0', 'N', 'q_acc'),           # overflow volta a 000\n",
    "}\n",
    "\n",
    "tm3 = CircularTapeTM('000', tr_clk, 'q0', 'q_acc', 'q_rej')\n",
    "for i in range(10):\n",
    "    ok, tape, _ = tm3.run()\n",
    "    print(tape)     # imprime sequência binária\n",
    "    tm3.state = 'q0'  # reseta estado para novo incremento"
   ]
  },
  {
   "cell_type": "markdown",
   "id": "da82665d",
   "metadata": {},
   "source": [
    "Alternar todos os bits (NOT) e parar após volta completa"
   ]
  },
  {
   "cell_type": "code",
   "execution_count": null,
   "id": "8d9320e8",
   "metadata": {},
   "outputs": [
    {
     "name": "stdout",
     "output_type": "stream",
     "text": [
      "(True, '#01100', 7)\n"
     ]
    }
   ],
   "source": [
    "tape4 = list('010011')\n",
    "tape4[0] = '#'  # marcador\n",
    "\n",
    "tm4 = CircularTapeTM(''.join(tape4), {\n",
    "    ('q0', '#'): ('#', 'R', 'q1'),      # estado q0 → só pula o marcador\n",
    "    ('q1', '0'): ('1', 'R', 'q1'),      # troca 0 por 1\n",
    "    ('q1', '1'): ('0', 'R', 'q1'),      # troca 1 por 0\n",
    "    ('q1', '#'): ('#', 'N', 'q_acc'),   # quando der a volta → aceita\n",
    "}, 'q0', 'q_acc', 'q_rej')\n",
    "\n",
    "print(tm4.run())  #(True, '#101100', X)\n"
   ]
  },
  {
   "cell_type": "markdown",
   "id": "19eca401",
   "metadata": {},
   "source": [
    "Procurar símbolo especial e “acertar” ponteiro"
   ]
  },
  {
   "cell_type": "code",
   "execution_count": 8,
   "id": "a7ed3c6b",
   "metadata": {},
   "outputs": [
    {
     "name": "stdout",
     "output_type": "stream",
     "text": [
      "(True, '101@001', 4)\n"
     ]
    }
   ],
   "source": [
    "tr_seek = {\n",
    "    ('q0', '@'): ('@', 'N', 'q_acc'),\n",
    "    ('q0', '0'): ('0', 'R', 'q0'),\n",
    "    ('q0', '1'): ('1', 'R', 'q0'),\n",
    "}\n",
    "\n",
    "tm5 = CircularTapeTM('101@001', tr_seek, 'q0', 'q_acc', 'q_rej')\n",
    "print(tm5.run())  # Aceita em poucos passos, fita intacta"
   ]
  }
 ],
 "metadata": {
  "kernelspec": {
   "display_name": "Python 3",
   "language": "python",
   "name": "python3"
  },
  "language_info": {
   "codemirror_mode": {
    "name": "ipython",
    "version": 3
   },
   "file_extension": ".py",
   "mimetype": "text/x-python",
   "name": "python",
   "nbconvert_exporter": "python",
   "pygments_lexer": "ipython3",
   "version": "3.13.0"
  }
 },
 "nbformat": 4,
 "nbformat_minor": 5
}
