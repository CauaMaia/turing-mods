{
 "cells": [
  {
   "cell_type": "code",
   "execution_count": 1,
   "id": "caf8bca7",
   "metadata": {},
   "outputs": [],
   "source": [
    "class JumpingHeadTM:\n",
    "    def __init__(self, tape, transitions, start_state, accept_state, reject_state):\n",
    "        self.tape = list(tape)\n",
    "        self.transitions = transitions\n",
    "        self.state = start_state\n",
    "        self.head = 0\n",
    "        self.accept = accept_state\n",
    "        self.reject = reject_state\n",
    "\n",
    "    def step(self):\n",
    "        symbol = self.tape[self.head] if self.head < len(self.tape) else '_'\n",
    "        key = (self.state, symbol)\n",
    "\n",
    "        if key in self.transitions:\n",
    "            new_symbol, direction, next_state = self.transitions[key]\n",
    "\n",
    "            if self.head >= len(self.tape):\n",
    "                self.tape.extend(['_'] * (self.head - len(self.tape) + 1))\n",
    "\n",
    "            print(f\"Step: {self.state} --[{symbol}/{new_symbol},{direction}]--> {next_state} | Head: {self.head} | Tape: {''.join(self.tape)}\")\n",
    "\n",
    "            self.tape[self.head] = new_symbol\n",
    "            self.state = next_state\n",
    "\n",
    "            if direction == 'R':\n",
    "                self.head += 2\n",
    "            elif direction == 'L':\n",
    "                self.head = max(0, self.head - 2)\n",
    "            # 'N' = não move\n",
    "            return True\n",
    "        else:\n",
    "            self.state = self.reject\n",
    "            return False\n",
    "\n",
    "    def run(self, max_steps=1000):\n",
    "        steps = 0\n",
    "        while self.state not in {self.accept, self.reject} and steps < max_steps:\n",
    "            if not self.step():\n",
    "                break\n",
    "            steps += 1\n",
    "\n",
    "        print(f\"\\nFinal: estado={self.state}, head={self.head}, tape={''.join(self.tape)}\")\n",
    "        return (self.state == self.accept), ''.join(self.tape), steps\n"
   ]
  },
  {
   "cell_type": "markdown",
   "id": "55982de8",
   "metadata": {},
   "source": [
    "Verificar se a cadeia binária contém quantidade par de 1s"
   ]
  },
  {
   "cell_type": "code",
   "execution_count": 2,
   "id": "c9b70f7a",
   "metadata": {},
   "outputs": [],
   "source": [
    "t_jump_paridade_1s = {\n",
    "    # Estado inicial: paridade atual = par\n",
    "    ('q0', '1'): ('X', 'R', 'q1a'),\n",
    "    ('q0', '0'): ('0', 'R', 'q0a'),\n",
    "    ('q0', '_'): ('_', 'N', 'q_acc'),\n",
    "\n",
    "    # Continuação da paridade par\n",
    "    ('q0a', '1'): ('X', 'R', 'q1b'),\n",
    "    ('q0a', '0'): ('0', 'R', 'q0b'),\n",
    "    ('q0a', '_'): ('_', 'N', 'q_acc'),\n",
    "\n",
    "    ('q0b', '1'): ('X', 'R', 'q1'),\n",
    "    ('q0b', '0'): ('0', 'R', 'q0'),\n",
    "    ('q0b', '_'): ('_', 'N', 'q_acc'),\n",
    "\n",
    "    # Paridade ímpar (após ler um 1)\n",
    "    ('q1', '1'): ('X', 'R', 'q0a'),\n",
    "    ('q1', '0'): ('0', 'R', 'q1a'),\n",
    "    ('q1', '_'): ('_', 'N', 'q_rej'),\n",
    "\n",
    "    ('q1a', '1'): ('X', 'R', 'q0b'),\n",
    "    ('q1a', '0'): ('0', 'R', 'q1b'),\n",
    "    ('q1a', '_'): ('_', 'N', 'q_rej'),\n",
    "\n",
    "    ('q1b', '1'): ('X', 'R', 'q0'),\n",
    "    ('q1b', '0'): ('0', 'R', 'q1'),\n",
    "    ('q1b', '_'): ('_', 'N', 'q_rej'),\n",
    "}\n"
   ]
  },
  {
   "cell_type": "code",
   "execution_count": 3,
   "id": "2c046a28",
   "metadata": {},
   "outputs": [],
   "source": [
    "# Se finaliza em q2 vindo de q1, rejeita\n",
    "final_rejecting = ['q1', 'q1a', 'q1b']\n",
    "for state in final_rejecting:\n",
    "    t_jump_paridade_1s[('q2', state)] = ('_', 'N', 'q_rej')"
   ]
  },
  {
   "cell_type": "code",
   "execution_count": 4,
   "id": "4dad3e3a",
   "metadata": {},
   "outputs": [
    {
     "name": "stdout",
     "output_type": "stream",
     "text": [
      "Step: q0 --[0/0,R]--> q0a | Head: 0 | Tape: 0_1_1_0\n",
      "Step: q0a --[1/X,R]--> q1b | Head: 2 | Tape: 0_1_1_0\n",
      "Step: q1b --[1/X,R]--> q0 | Head: 4 | Tape: 0_X_1_0\n",
      "Step: q0 --[0/0,R]--> q0a | Head: 6 | Tape: 0_X_X_0\n",
      "Step: q0a --[_/_,N]--> q_acc | Head: 8 | Tape: 0_X_X_0__\n",
      "\n",
      "Final: estado=q_acc, head=8, tape=0_X_X_0__\n",
      "(True, '0_X_X_0__', 5)\n"
     ]
    }
   ],
   "source": [
    "tape = '0_1_1_0'\n",
    "tm = JumpingHeadTM(tape, t_jump_paridade_1s, 'q0', 'q_acc', 'q_rej')\n",
    "print(tm.run())"
   ]
  },
  {
   "cell_type": "code",
   "execution_count": 5,
   "id": "da59bda2",
   "metadata": {},
   "outputs": [
    {
     "name": "stdout",
     "output_type": "stream",
     "text": [
      "Step: q0 --[1/X,R]--> q1a | Head: 0 | Tape: 1_0_0\n",
      "Step: q1a --[0/0,R]--> q1b | Head: 2 | Tape: X_0_0\n",
      "Step: q1b --[0/0,R]--> q1 | Head: 4 | Tape: X_0_0\n",
      "Step: q1 --[_/_,N]--> q_rej | Head: 6 | Tape: X_0_0__\n",
      "\n",
      "Final: estado=q_rej, head=6, tape=X_0_0__\n",
      "(False, 'X_0_0__', 4)\n"
     ]
    }
   ],
   "source": [
    "tm_err = JumpingHeadTM('1_0_0', t_jump_paridade_1s, 'q0', 'q_acc', 'q_rej')\n",
    "print(tm_err.run())\n"
   ]
  },
  {
   "cell_type": "markdown",
   "id": "42f66fb3",
   "metadata": {},
   "source": [
    "Reconhecer cadeias com o padrão a_b_a_b... (intercalado)"
   ]
  },
  {
   "cell_type": "code",
   "execution_count": 6,
   "id": "f61122ba",
   "metadata": {},
   "outputs": [],
   "source": [
    "t_jump_intercalado = {\n",
    "    # Início: espera 'a'\n",
    "    ('q0', 'a'): ('X', 'R', 'qa1'),\n",
    "    ('q0', '_'): ('_', 'N', 'q_acc'),\n",
    "\n",
    "    # Após 'a', espera 'b'\n",
    "    ('qa1', 'b'): ('Y', 'R', 'qa2'),\n",
    "    ('qa1', 'a'): ('a', 'N', 'q_rej'),\n",
    "    ('qa1', '_'): ('_', 'N', 'q_rej'),\n",
    "    ('qa1', 'X'): ('X', 'R', 'qa1'),\n",
    "    ('qa1', 'Y'): ('Y', 'R', 'qa1'),\n",
    "\n",
    "    # Após marcar b, transição para próximo ciclo\n",
    "    ('qa2', 'a'): ('X', 'R', 'qa3'),\n",
    "    ('qa2', '_'): ('_', 'N', 'q_acc'),\n",
    "    ('qa2', 'b'): ('b', 'N', 'q_rej'),\n",
    "    ('qa2', 'X'): ('X', 'R', 'qa2'),\n",
    "    ('qa2', 'Y'): ('Y', 'R', 'qa2'),\n",
    "\n",
    "    # qa3 espera b de novo\n",
    "    ('qa3', 'b'): ('Y', 'R', 'qa2'),\n",
    "    ('qa3', 'a'): ('a', 'N', 'q_rej'),\n",
    "    ('qa3', '_'): ('_', 'N', 'q_acc'),\n",
    "    ('qa3', 'X'): ('X', 'R', 'qa3'),\n",
    "    ('qa3', 'Y'): ('Y', 'R', 'qa3'),\n",
    "}\n"
   ]
  },
  {
   "cell_type": "code",
   "execution_count": 7,
   "id": "497d8163",
   "metadata": {},
   "outputs": [
    {
     "name": "stdout",
     "output_type": "stream",
     "text": [
      "Step: q0 --[a/X,R]--> qa1 | Head: 0 | Tape: a_b_a_b_\n",
      "Step: qa1 --[b/Y,R]--> qa2 | Head: 2 | Tape: X_b_a_b_\n",
      "Step: qa2 --[a/X,R]--> qa3 | Head: 4 | Tape: X_Y_a_b_\n",
      "Step: qa3 --[b/Y,R]--> qa2 | Head: 6 | Tape: X_Y_X_b_\n",
      "Step: qa2 --[_/_,N]--> q_acc | Head: 8 | Tape: X_Y_X_Y__\n",
      "\n",
      "Final: estado=q_acc, head=8, tape=X_Y_X_Y__\n",
      "(True, 'X_Y_X_Y__', 5)\n"
     ]
    }
   ],
   "source": [
    "tm = JumpingHeadTM('a_b_a_b_', t_jump_intercalado, 'q0', 'q_acc', 'q_rej')\n",
    "print(tm.run())\n"
   ]
  },
  {
   "cell_type": "code",
   "execution_count": 8,
   "id": "44a3a4ce",
   "metadata": {},
   "outputs": [
    {
     "name": "stdout",
     "output_type": "stream",
     "text": [
      "Step: q0 --[a/X,R]--> qa1 | Head: 0 | Tape: a_b_b_\n",
      "Step: qa1 --[b/Y,R]--> qa2 | Head: 2 | Tape: X_b_b_\n",
      "Step: qa2 --[b/b,N]--> q_rej | Head: 4 | Tape: X_Y_b_\n",
      "\n",
      "Final: estado=q_rej, head=4, tape=X_Y_b_\n",
      "(False, 'X_Y_b_', 3)\n"
     ]
    }
   ],
   "source": [
    "tm2 = JumpingHeadTM('a_b_b_', t_jump_intercalado, 'q0', 'q_acc', 'q_rej')\n",
    "print(tm2.run())"
   ]
  }
 ],
 "metadata": {
  "kernelspec": {
   "display_name": "Python 3",
   "language": "python",
   "name": "python3"
  },
  "language_info": {
   "codemirror_mode": {
    "name": "ipython",
    "version": 3
   },
   "file_extension": ".py",
   "mimetype": "text/x-python",
   "name": "python",
   "nbconvert_exporter": "python",
   "pygments_lexer": "ipython3",
   "version": "3.13.0"
  }
 },
 "nbformat": 4,
 "nbformat_minor": 5
}
