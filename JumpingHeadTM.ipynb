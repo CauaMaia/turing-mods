{
 "cells": [
  {
   "cell_type": "code",
   "execution_count": 2,
   "id": "caf8bca7",
   "metadata": {},
   "outputs": [],
   "source": [
    "class JumpingHeadTM:\n",
    "    \"\"\"\n",
    "    Máquina de Turing com cabeçote saltador (pula 2 casas por vez).\n",
    "    - transitions: {(estado, símbolo_lido): (símbolo_escrito, direção, próximo_estado)}\n",
    "      direção: 'R' = pula 2 p/ direita, 'L' = pula 2 p/ esquerda, 'N' = não move.\n",
    "    \"\"\"\n",
    "    def __init__(self, tape, transitions, start_state, accept_state, reject_state):\n",
    "        self.tape = list(tape)               # fita como lista mutável\n",
    "        self.transitions = transitions       # tabela de transições\n",
    "        self.state = start_state             # estado atual\n",
    "        self.head = 0                        # posição do cabeçote\n",
    "        self.accept = accept_state           # estado de aceitação\n",
    "        self.reject = reject_state           # estado de rejeição\n",
    "\n",
    "    def step(self):\n",
    "        symbol = self.tape[self.head] if self.head < len(self.tape) else '_'\n",
    "        key = (self.state, symbol)\n",
    "\n",
    "        if key in self.transitions:\n",
    "            new_symbol, direction, next_state = self.transitions[key]\n",
    "            # expandir fita se necessário\n",
    "            if self.head >= len(self.tape):\n",
    "                self.tape.extend(['_'] * (self.head - len(self.tape) + 1))\n",
    "\n",
    "            self.tape[self.head] = new_symbol\n",
    "            self.state = next_state\n",
    "\n",
    "            if direction == 'R':\n",
    "                self.head += 2\n",
    "            elif direction == 'L':\n",
    "                self.head = max(0, self.head - 2)\n",
    "            # 'N' não move\n",
    "        else:\n",
    "            self.state = self.reject\n",
    "\n",
    "    def run(self, max_steps=1000):\n",
    "        steps = 0\n",
    "        while self.state != self.accept and self.state != self.reject and steps < max_steps:\n",
    "            self.step()\n",
    "            steps += 1\n",
    "        return (self.state == self.accept), ''.join(self.tape), steps"
   ]
  },
  {
   "cell_type": "markdown",
   "id": "ae0180e1",
   "metadata": {},
   "source": [
    "Marcar os primeiros 1 com X, pulando 2 casas"
   ]
  },
  {
   "cell_type": "code",
   "execution_count": null,
   "id": "56c4eaa7",
   "metadata": {},
   "outputs": [
    {
     "name": "stdout",
     "output_type": "stream",
     "text": [
      "Aceita? True\n",
      "Fita final: X1X1_\n"
     ]
    }
   ],
   "source": [
    "transitions = {\n",
    "    ('q0', '1'): ('X', 'R', 'q0'),     # marca e pula 2 casas\n",
    "    ('q0', '_'): ('_', 'N', 'q_acc'), # fim da fita → aceita\n",
    "}\n",
    "\n",
    "tm = JumpingHeadTM('1111', transitions, 'q0', 'q_acc', 'q_rej')\n",
    "result, tape, steps = tm.run()\n",
    "print(\"Aceita?\", result)\n",
    "print(\"Fita final:\", tape)       # Saída: X1X1"
   ]
  },
  {
   "cell_type": "markdown",
   "id": "251fe3f4",
   "metadata": {},
   "source": [
    "Marcar 1 alternados com X"
   ]
  },
  {
   "cell_type": "code",
   "execution_count": 4,
   "id": "0e725416",
   "metadata": {},
   "outputs": [
    {
     "name": "stdout",
     "output_type": "stream",
     "text": [
      "(True, 'X1X1_', 3)\n"
     ]
    }
   ],
   "source": [
    "transitions = {\n",
    "    ('q0', '1'): ('X', 'R', 'q0'),\n",
    "    ('q0', '_'): ('_', 'N', 'q_acc'),\n",
    "}\n",
    "\n",
    "tm = JumpingHeadTM('1111', transitions, 'q0', 'q_acc', 'q_rej')\n",
    "print(tm.run())  # → ('X1X1', aceita=True)"
   ]
  },
  {
   "cell_type": "markdown",
   "id": "4c8b5776",
   "metadata": {},
   "source": [
    "Inverter 0 ↔ 1, pulando de 2 em 2"
   ]
  },
  {
   "cell_type": "code",
   "execution_count": 5,
   "id": "5f5ee1b2",
   "metadata": {},
   "outputs": [
    {
     "name": "stdout",
     "output_type": "stream",
     "text": [
      "(True, '111111_', 4)\n"
     ]
    }
   ],
   "source": [
    "transitions = {\n",
    "    ('q0', '0'): ('1', 'R', 'q0'),\n",
    "    ('q0', '1'): ('0', 'R', 'q0'),\n",
    "    ('q0', '_'): ('_', 'N', 'q_acc'),\n",
    "}\n",
    "\n",
    "tm = JumpingHeadTM('010101', transitions, 'q0', 'q_acc', 'q_rej')\n",
    "print(tm.run())  # → ('101001', aceita=True)"
   ]
  },
  {
   "cell_type": "markdown",
   "id": "49a23a3b",
   "metadata": {},
   "source": [
    "Parar se encontrar um b em posição par"
   ]
  },
  {
   "cell_type": "code",
   "execution_count": 6,
   "id": "9be6ad0d",
   "metadata": {},
   "outputs": [
    {
     "name": "stdout",
     "output_type": "stream",
     "text": [
      "(True, 'abba', 2)\n"
     ]
    }
   ],
   "source": [
    "transitions = {\n",
    "    ('q0', 'a'): ('a', 'R', 'q0'),\n",
    "    ('q0', 'b'): ('b', 'N', 'q_acc'),  # encontrou b → aceita\n",
    "}\n",
    "\n",
    "tm = JumpingHeadTM('abba', transitions, 'q0', 'q_acc', 'q_rej')\n",
    "print(tm.run())  # → encontrou b no índice 2 → aceita"
   ]
  },
  {
   "cell_type": "markdown",
   "id": "38c0c12e",
   "metadata": {},
   "source": [
    "Substituir vogais alternadas por *"
   ]
  },
  {
   "cell_type": "code",
   "execution_count": 7,
   "id": "b178fc70",
   "metadata": {},
   "outputs": [
    {
     "name": "stdout",
     "output_type": "stream",
     "text": [
      "(True, '*e*o*__', 4)\n"
     ]
    }
   ],
   "source": [
    "transitions = {\n",
    "    ('q0', 'a'): ('*', 'R', 'q0'),\n",
    "    ('q0', 'e'): ('*', 'R', 'q0'),\n",
    "    ('q0', 'i'): ('*', 'R', 'q0'),\n",
    "    ('q0', 'o'): ('*', 'R', 'q0'),\n",
    "    ('q0', 'u'): ('*', 'R', 'q0'),\n",
    "    ('q0', '_'): ('_', 'N', 'q_acc'),\n",
    "}\n",
    "\n",
    "tm = JumpingHeadTM('aeiou_', transitions, 'q0', 'q_acc', 'q_rej')\n",
    "print(tm.run())  # → ('*ei*u_', aceita=True)"
   ]
  },
  {
   "cell_type": "markdown",
   "id": "218ab620",
   "metadata": {},
   "source": [
    "Saltar e limpar: apagar os pares (índices pares)"
   ]
  },
  {
   "cell_type": "code",
   "execution_count": 8,
   "id": "db967e58",
   "metadata": {},
   "outputs": [
    {
     "name": "stdout",
     "output_type": "stream",
     "text": [
      "(True, '_b_d_f_h_', 5)\n"
     ]
    }
   ],
   "source": [
    "transitions = {\n",
    "    ('q0', 'a'): ('_', 'R', 'q0'),\n",
    "    ('q0', 'c'): ('_', 'R', 'q0'),\n",
    "    ('q0', 'e'): ('_', 'R', 'q0'),\n",
    "    ('q0', 'g'): ('_', 'R', 'q0'),\n",
    "    ('q0', '_'): ('_', 'N', 'q_acc'),\n",
    "    # se for qualquer outra letra → mantém\n",
    "    ('q0', 'b'): ('b', 'R', 'q0'),\n",
    "    ('q0', 'd'): ('d', 'R', 'q0'),\n",
    "    ('q0', 'f'): ('f', 'R', 'q0'),\n",
    "    ('q0', 'h'): ('h', 'R', 'q0'),\n",
    "}\n",
    "\n",
    "tm = JumpingHeadTM('abcdefgh', transitions, 'q0', 'q_acc', 'q_rej')\n",
    "print(tm.run())  # → ('_b_d_f_h', aceita=True)"
   ]
  }
 ],
 "metadata": {
  "kernelspec": {
   "display_name": "Python 3",
   "language": "python",
   "name": "python3"
  },
  "language_info": {
   "codemirror_mode": {
    "name": "ipython",
    "version": 3
   },
   "file_extension": ".py",
   "mimetype": "text/x-python",
   "name": "python",
   "nbconvert_exporter": "python",
   "pygments_lexer": "ipython3",
   "version": "3.13.0"
  }
 },
 "nbformat": 4,
 "nbformat_minor": 5
}
