{
 "cells": [
  {
   "cell_type": "code",
   "execution_count": 51,
   "id": "caf8bca7",
   "metadata": {},
   "outputs": [],
   "source": [
    "class JumpingHeadTM:\n",
    "    \"\"\"\n",
    "    Máquina de Turing com cabeçote saltador (pula 2 casas por vez).\n",
    "    - transitions: {(estado, símbolo_lido): (símbolo_escrito, direção, próximo_estado)}\n",
    "    direção: 'R' = pula 2 p/ direita, 'L' = pula 2 p/ esquerda, 'N' = não move.\n",
    "    \"\"\"\n",
    "    def __init__(self, tape, transitions, start_state, accept_state, reject_state):\n",
    "        self.tape = list(tape)  # fita como lista mutável\n",
    "        self.transitions = transitions  # tabela de transições\n",
    "        self.state = start_state  # estado atual\n",
    "        self.head = 0  # posição do cabeçote\n",
    "        self.accept = accept_state  # estado de aceitação\n",
    "        self.reject = reject_state  # estado de rejeição\n",
    "\n",
    "    def step(self):\n",
    "        symbol = self.tape[self.head] if self.head < len(self.tape) else '_'\n",
    "        key = (self.state, symbol)\n",
    "        if key in self.transitions:\n",
    "            new_symbol, direction, next_state = self.transitions[key]\n",
    "            # expandir fita se necessário\n",
    "            if self.head >= len(self.tape):\n",
    "                self.tape.extend(['_'] * (self.head - len(self.tape) + 1))\n",
    "            self.tape[self.head] = new_symbol\n",
    "            self.state = next_state\n",
    "            if direction == 'R':\n",
    "                self.head += 2\n",
    "            elif direction == 'L':\n",
    "                self.head = max(0, self.head - 2)\n",
    "            # 'N' não move\n",
    "        else:\n",
    "            self.state = self.reject\n",
    "\n",
    "    def run(self, max_steps=1000):\n",
    "        steps = 0\n",
    "        while self.state != self.accept and self.state != self.reject and steps < max_steps:\n",
    "            self.step()\n",
    "            steps += 1\n",
    "        return (self.state == self.accept), ''.join(self.tape), steps\n"
   ]
  },
  {
   "cell_type": "markdown",
   "id": "55982de8",
   "metadata": {},
   "source": [
    "Verificar se a cadeia binária contém quantidade par de 1s"
   ]
  },
  {
   "cell_type": "code",
   "execution_count": 52,
   "id": "c9b70f7a",
   "metadata": {},
   "outputs": [],
   "source": [
    "t_jump_paridade_1s = {\n",
    "    # Estado inicial: paridade atual = par\n",
    "    ('q0', '1'): ('X', 'R', 'q1a'),\n",
    "    ('q0', '0'): ('0', 'R', 'q0a'),\n",
    "    ('q0', '_'): ('_', 'N', 'q_acc'),\n",
    "\n",
    "    # Continuação da paridade par\n",
    "    ('q0a', '1'): ('X', 'R', 'q1b'),\n",
    "    ('q0a', '0'): ('0', 'R', 'q0b'),\n",
    "    ('q0a', '_'): ('_', 'N', 'q_acc'),\n",
    "\n",
    "    ('q0b', '1'): ('X', 'R', 'q1'),\n",
    "    ('q0b', '0'): ('0', 'R', 'q0'),\n",
    "    ('q0b', '_'): ('_', 'N', 'q_acc'),\n",
    "\n",
    "    # Paridade ímpar (após ler um 1)\n",
    "    ('q1', '1'): ('X', 'R', 'q0a'),\n",
    "    ('q1', '0'): ('0', 'R', 'q1a'),\n",
    "    ('q1', '_'): ('_', 'N', 'q_rej'),\n",
    "\n",
    "    ('q1a', '1'): ('X', 'R', 'q0b'),\n",
    "    ('q1a', '0'): ('0', 'R', 'q1b'),\n",
    "    ('q1a', '_'): ('_', 'N', 'q_rej'),\n",
    "\n",
    "    ('q1b', '1'): ('X', 'R', 'q0'),\n",
    "    ('q1b', '0'): ('0', 'R', 'q1'),\n",
    "    ('q1b', '_'): ('_', 'N', 'q_rej'),\n",
    "}\n"
   ]
  },
  {
   "cell_type": "code",
   "execution_count": 53,
   "id": "2c046a28",
   "metadata": {},
   "outputs": [],
   "source": [
    "# Se finaliza em q2 vindo de q1, rejeita\n",
    "final_rejecting = ['q1', 'q1a', 'q1b']\n",
    "for state in final_rejecting:\n",
    "    t_jump_paridade_1s[('q2', state)] = ('_', 'N', 'q_rej')"
   ]
  },
  {
   "cell_type": "code",
   "execution_count": 54,
   "id": "4dad3e3a",
   "metadata": {},
   "outputs": [
    {
     "name": "stdout",
     "output_type": "stream",
     "text": [
      "(True, '0_X_X_0__', 5)\n"
     ]
    }
   ],
   "source": [
    "tape = '0_1_1_0'\n",
    "tm = JumpingHeadTM(tape, t_jump_paridade_1s, 'q0', 'q_acc', 'q_rej')\n",
    "print(tm.run())"
   ]
  },
  {
   "cell_type": "code",
   "execution_count": 55,
   "id": "da59bda2",
   "metadata": {},
   "outputs": [
    {
     "name": "stdout",
     "output_type": "stream",
     "text": [
      "(False, 'X_0_0__', 4)\n"
     ]
    }
   ],
   "source": [
    "tm_err = JumpingHeadTM('1_0_0', t_jump_paridade_1s, 'q0', 'q_acc', 'q_rej')\n",
    "print(tm_err.run())\n"
   ]
  },
  {
   "cell_type": "markdown",
   "id": "42f66fb3",
   "metadata": {},
   "source": [
    "Reconhecer cadeias com o padrão a_b_a_b... (intercalado)"
   ]
  },
  {
   "cell_type": "code",
   "execution_count": 77,
   "id": "f61122ba",
   "metadata": {},
   "outputs": [],
   "source": [
    "t_jump_intercalado = {\n",
    "    # Início: espera 'a'\n",
    "    ('q0', 'a'): ('X', 'R', 'qa1'),\n",
    "    ('q0', '_'): ('_', 'N', 'q_acc'),\n",
    "\n",
    "    # Após 'a', espera 'b'\n",
    "    ('qa1', 'b'): ('Y', 'R', 'qa2'),\n",
    "    ('qa1', 'a'): ('a', 'N', 'q_rej'),\n",
    "    ('qa1', '_'): ('_', 'N', 'q_rej'),\n",
    "    ('qa1', 'X'): ('X', 'R', 'qa1'),\n",
    "    ('qa1', 'Y'): ('Y', 'R', 'qa1'),\n",
    "\n",
    "    # Após marcar b, transição para próximo ciclo\n",
    "    ('qa2', 'a'): ('X', 'R', 'qa3'),\n",
    "    ('qa2', '_'): ('_', 'N', 'q_acc'),\n",
    "    ('qa2', 'b'): ('b', 'N', 'q_rej'),\n",
    "    ('qa2', 'X'): ('X', 'R', 'qa2'),\n",
    "    ('qa2', 'Y'): ('Y', 'R', 'qa2'),\n",
    "\n",
    "    # qa3 espera b de novo\n",
    "    ('qa3', 'b'): ('Y', 'R', 'qa2'),\n",
    "    ('qa3', 'a'): ('a', 'N', 'q_rej'),\n",
    "    ('qa3', '_'): ('_', 'N', 'q_acc'),\n",
    "    ('qa3', 'X'): ('X', 'R', 'qa3'),\n",
    "    ('qa3', 'Y'): ('Y', 'R', 'qa3'),\n",
    "}\n"
   ]
  },
  {
   "cell_type": "code",
   "execution_count": 78,
   "id": "497d8163",
   "metadata": {},
   "outputs": [
    {
     "name": "stdout",
     "output_type": "stream",
     "text": [
      "(True, 'X_Y_X_Y__', 5)\n"
     ]
    }
   ],
   "source": [
    "tm = JumpingHeadTM('a_b_a_b_', t_jump_intercalado, 'q0', 'q_acc', 'q_rej')\n",
    "print(tm.run())\n"
   ]
  },
  {
   "cell_type": "code",
   "execution_count": 80,
   "id": "44a3a4ce",
   "metadata": {},
   "outputs": [
    {
     "name": "stdout",
     "output_type": "stream",
     "text": [
      "(False, 'X_Y_b_', 3)\n"
     ]
    }
   ],
   "source": [
    "tm2 = JumpingHeadTM('a_b_b_', t_jump_intercalado, 'q0', 'q_acc', 'q_rej')\n",
    "print(tm2.run())"
   ]
  }
 ],
 "metadata": {
  "kernelspec": {
   "display_name": "Python 3",
   "language": "python",
   "name": "python3"
  },
  "language_info": {
   "codemirror_mode": {
    "name": "ipython",
    "version": 3
   },
   "file_extension": ".py",
   "mimetype": "text/x-python",
   "name": "python",
   "nbconvert_exporter": "python",
   "pygments_lexer": "ipython3",
   "version": "3.13.0"
  }
 },
 "nbformat": 4,
 "nbformat_minor": 5
}
